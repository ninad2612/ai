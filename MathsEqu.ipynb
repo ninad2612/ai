{
 "cells": [
  {
   "cell_type": "code",
   "execution_count": 1,
   "metadata": {},
   "outputs": [],
   "source": [
    "import pandas as pd \n",
    "\n",
    "data = pd.read_csv('F:\\Vasaikar\\datu.csv')"
   ]
  },
  {
   "cell_type": "code",
   "execution_count": 2,
   "metadata": {},
   "outputs": [
    {
     "data": {
      "text/plain": [
       "(30, 16)"
      ]
     },
     "execution_count": 2,
     "metadata": {},
     "output_type": "execute_result"
    }
   ],
   "source": [
    "data.shape"
   ]
  },
  {
   "cell_type": "markdown",
   "metadata": {},
   "source": [
    "Change in Range according to change in velocity."
   ]
  },
  {
   "cell_type": "code",
   "execution_count": 3,
   "metadata": {},
   "outputs": [
    {
     "ename": "NameError",
     "evalue": "name 'Change_in_range_for_muzzle_velocity' is not defined",
     "output_type": "error",
     "traceback": [
      "\u001b[1;31m---------------------------------------------------------------------------\u001b[0m",
      "\u001b[1;31mNameError\u001b[0m                                 Traceback (most recent call last)",
      "Cell \u001b[1;32mIn[3], line 29\u001b[0m\n\u001b[0;32m     26\u001b[0m     target_column\u001b[38;5;241m=\u001b[39m[\u001b[38;5;124m'\u001b[39m\u001b[38;5;124mvdec\u001b[39m\u001b[38;5;124m'\u001b[39m]\n\u001b[0;32m     27\u001b[0m     Change_in_range_for_muzzle_velocity \u001b[38;5;241m=\u001b[39mget_chane_in_range_for_velocity_decrease(current_elevation,target_column,change_in_muzzle_velocity)\n\u001b[1;32m---> 29\u001b[0m new_range_for_change_in_velocity \u001b[38;5;241m=\u001b[39m \u001b[43mChange_in_range_for_muzzle_velocity\u001b[49m \u001b[38;5;241m+\u001b[39m data\u001b[38;5;241m.\u001b[39mloc[data[\u001b[38;5;124m'\u001b[39m\u001b[38;5;124melevation\u001b[39m\u001b[38;5;124m'\u001b[39m] \u001b[38;5;241m==\u001b[39m current_elevation, \u001b[38;5;124m'\u001b[39m\u001b[38;5;124mRange\u001b[39m\u001b[38;5;124m'\u001b[39m]\u001b[38;5;241m.\u001b[39mvalues[\u001b[38;5;241m0\u001b[39m]\n\u001b[0;32m     30\u001b[0m \u001b[38;5;28mprint\u001b[39m(new_range_for_change_in_velocity)\n\u001b[0;32m     31\u001b[0m \u001b[38;5;28mprint\u001b[39m(Change_in_range_for_muzzle_velocity)\n",
      "\u001b[1;31mNameError\u001b[0m: name 'Change_in_range_for_muzzle_velocity' is not defined"
     ]
    }
   ],
   "source": [
    "def get_chane_in_range_for_velocity_increase(elevation_value, target_column,change_in_muzzle_velocity):\n",
    "    \n",
    "    value = data.loc[data['elevation'] == elevation_value, target_column].values[0]\n",
    "    return value*abs(change_in_muzzle_velocity)\n",
    "\n",
    "\n",
    "def get_chane_in_range_for_velocity_decrease(elevation_value, target_column,change_in_muzzle_velocity):\n",
    "    \n",
    "    value = data.loc[data['elevation'] == elevation_value, target_column].values[0]\n",
    "    return value*abs(change_in_muzzle_velocity)\n",
    "\n",
    "base_muzzle_velocity = 479    #for zone 2\n",
    "current_elevation = 42.7\n",
    "current_muzzle_velocity = 479\n",
    "\n",
    "change_in_muzzle_velocity = current_muzzle_velocity - base_muzzle_velocity\n",
    "\n",
    "if change_in_muzzle_velocity > 0 :\n",
    "    target_column=['vinc']\n",
    "    Change_in_range_for_muzzle_velocity =get_chane_in_range_for_velocity_increase(current_elevation,target_column,change_in_muzzle_velocity)  \n",
    "\n",
    "elif change_in_muzzle_velocity == 0 :\n",
    "    change_in_muzzle_velocity=0\n",
    "\n",
    "else :\n",
    "    target_column=['vdec']\n",
    "    Change_in_range_for_muzzle_velocity =get_chane_in_range_for_velocity_decrease(current_elevation,target_column,change_in_muzzle_velocity)\n",
    "\n",
    "new_range_for_change_in_velocity = Change_in_range_for_muzzle_velocity + data.loc[data['elevation'] == current_elevation, 'Range'].values[0]\n",
    "print(new_range_for_change_in_velocity)\n",
    "print(Change_in_range_for_muzzle_velocity)"
   ]
  },
  {
   "cell_type": "markdown",
   "metadata": {},
   "source": [
    "Change in Range according to change in HeadTail Wind."
   ]
  },
  {
   "cell_type": "code",
   "execution_count": 53,
   "metadata": {},
   "outputs": [
    {
     "name": "stdout",
     "output_type": "stream",
     "text": [
      "[1799.4]\n"
     ]
    }
   ],
   "source": [
    "def get_chane_in_range_for_htwind_increase(elevation_value, target_column,change_in_htwind):\n",
    "    \n",
    "    value = data.loc[data['elevation'] == elevation_value, target_column].values[0]\n",
    "    return value*abs(change_in_htwind)\n",
    "\n",
    "\n",
    "def get_chane_in_range_for_htwind_decrease(elevation_value, target_column,change_in_htwind):\n",
    "    \n",
    "    value = data.loc[data['elevation'] == elevation_value, target_column].values[0]\n",
    "    return value*abs(change_in_htwind)\n",
    "\n",
    "base_htwind = 0    #for zone 2\n",
    "current_elevation = 42.7\n",
    "current_htwind = 0\n",
    "\n",
    "change_in_htwind = current_htwind - base_htwind\n",
    "\n",
    "if change_in_htwind > 0 :\n",
    "    target_column=['tw']\n",
    "    Change_in_range_for_htwind =get_chane_in_range_for_htwind_increase(current_elevation,target_column,change_in_htwind)  \n",
    "\n",
    "elif change_in_htwind == 0 :\n",
    "    change_in_htwind = 0\n",
    "\n",
    "else :\n",
    "    target_column=['hw']\n",
    "    Change_in_range_for_htwind =get_chane_in_range_for_htwind_decrease(current_elevation,target_column,change_in_htwind)\n",
    "\n",
    "new_range_for_change_in_htwind = Change_in_range_for_htwind + data.loc[data['elevation'] == current_elevation, 'Range'].values[0]\n",
    "print(new_range_for_change_in_htwind)"
   ]
  },
  {
   "cell_type": "code",
   "execution_count": 47,
   "metadata": {},
   "outputs": [
    {
     "name": "stdout",
     "output_type": "stream",
     "text": [
      "1800\n"
     ]
    }
   ],
   "source": [
    "elevation_value = 42.7\n",
    "value = data.loc[data['elevation'] == elevation_value, 'Range'].values[0]\n",
    "print(value)"
   ]
  }
 ],
 "metadata": {
  "kernelspec": {
   "display_name": "Python 3",
   "language": "python",
   "name": "python3"
  },
  "language_info": {
   "codemirror_mode": {
    "name": "ipython",
    "version": 3
   },
   "file_extension": ".py",
   "mimetype": "text/x-python",
   "name": "python",
   "nbconvert_exporter": "python",
   "pygments_lexer": "ipython3",
   "version": "3.11.4"
  }
 },
 "nbformat": 4,
 "nbformat_minor": 2
}
